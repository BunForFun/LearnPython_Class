{
 "cells": [
  {
   "cell_type": "markdown",
   "metadata": {},
   "source": [
    "# Functions  and Modules"
   ]
  },
  {
   "cell_type": "markdown",
   "metadata": {},
   "source": [
    "## Functions\n",
    "\n",
    "Python can be both procedural (using functions) and object oriented (using classes)\n",
    "\n",
    "We do objects later in the class, but much of the function stuff now will also be applicable."
   ]
  },
  {
   "cell_type": "markdown",
   "metadata": {},
   "source": [
    "Functions looks like:\n",
    "\n",
    "        def function_name(arg1,arg2, ..., kw1=v1, kw2=v2, kw3=v3, ...)\n",
    "\n",
    "   - argX are arguments: required (and sequence is important)\n",
    "   - kwX are keywords: optional (sequence unimportant; vals act like defaults)\n",
    "   - :\n",
    "   - contains only numbers, letters, underscore\n",
    "   - does not start with a number\n",
    "   - is not the same name as a built-in function (like print)"
   ]
  },
  {
   "cell_type": "code",
   "execution_count": null,
   "metadata": {},
   "outputs": [],
   "source": [
    "def addnum(x, y):\n",
    "    return x + y\n",
    "addnum(2, 3)"
   ]
  },
  {
   "cell_type": "code",
   "execution_count": null,
   "metadata": {},
   "outputs": [],
   "source": [
    "addnum('a', 'b') #Oh no bruv"
   ]
  },
  {
   "cell_type": "code",
   "execution_count": null,
   "metadata": {},
   "outputs": [],
   "source": [
    "addnum('a', 5)"
   ]
  },
  {
   "cell_type": "markdown",
   "metadata": {},
   "source": [
    "Unlike in C, we cannot declare what type of variables are required by the function. Python is dynamically typed.\n"
   ]
  },
  {
   "cell_type": "code",
   "execution_count": null,
   "metadata": {},
   "outputs": [],
   "source": [
    "def addnum(x,y):\n",
    "    if isinstance(x, (int, float)) and isinstance(y, (int, float)):\n",
    "        return x + y\n",
    "    print('I\\'m sorry, I can\\'t add these types because (' + str(type(x)) + ', ' + str(type(y)) + ')')\n",
    "    return\n",
    "addnum('a', 5)"
   ]
  },
  {
   "cell_type": "markdown",
   "metadata": {},
   "source": [
    "## Scope"
   ]
  },
  {
   "cell_type": "code",
   "execution_count": null,
   "metadata": {},
   "outputs": [],
   "source": [
    "addnum, id(addnum), type(addnum)"
   ]
  },
  {
   "cell_type": "code",
   "execution_count": null,
   "metadata": {},
   "outputs": [],
   "source": [
    "x = 2\n",
    "addnum(5, 6)"
   ]
  },
  {
   "cell_type": "code",
   "execution_count": null,
   "metadata": {},
   "outputs": [],
   "source": [
    "print(x)"
   ]
  },
  {
   "cell_type": "markdown",
   "metadata": {},
   "source": [
    "Python has it’s own local variables list. `x` is not modified globally (unless you make it an explict `global` variable).\n"
   ]
  },
  {
   "cell_type": "code",
   "execution_count": null,
   "metadata": {},
   "outputs": [],
   "source": [
    "def addnum(x, y):\n",
    "    x *= 3.14\n",
    "    return x + y\n",
    "addnum(5, 6)"
   ]
  },
  {
   "cell_type": "code",
   "execution_count": null,
   "metadata": {},
   "outputs": [],
   "source": [
    "x = 2\n",
    "addnum(x, 4)"
   ]
  },
  {
   "cell_type": "code",
   "execution_count": null,
   "metadata": {},
   "outputs": [],
   "source": [
    "print(x)"
   ]
  },
  {
   "cell_type": "markdown",
   "metadata": {},
   "source": [
    "Let's try to make a global variable:\n"
   ]
  },
  {
   "cell_type": "code",
   "execution_count": null,
   "metadata": {},
   "outputs": [],
   "source": [
    "def numop(x, y):\n",
    "    x *= 3.14\n",
    "    global a\n",
    "    a += 1\n",
    "    return x + y, a ## note: we're returning a tuple here\n"
   ]
  },
  {
   "cell_type": "code",
   "execution_count": null,
   "metadata": {},
   "outputs": [],
   "source": [
    "a = 1\n",
    "numop(3, 4)"
   ]
  },
  {
   "cell_type": "code",
   "execution_count": null,
   "metadata": {},
   "outputs": [],
   "source": [
    "numop(2, 4)"
   ]
  },
  {
   "cell_type": "markdown",
   "metadata": {},
   "source": [
    "### Keyword arguments\n",
    "\n",
    "Functions can also be called using keyword arguments of the form kwarg=value. For instance, the following function:"
   ]
  },
  {
   "cell_type": "code",
   "execution_count": null,
   "metadata": {},
   "outputs": [],
   "source": [
    "def parrot(voltage, state='a stiff', action='voom', type='Norwegian Blue'):\n",
    "    print(\"-- This parrot wouldn't\", action, end=' ')\n",
    "    print(\"if you put\", voltage, \"volts through it.\")\n",
    "    print(\"-- Lovely plumage, the\", type)\n",
    "    print(\"-- It's\", state, \"!\")"
   ]
  },
  {
   "cell_type": "markdown",
   "metadata": {},
   "source": [
    "accepts one required argument (voltage) and three optional arguments (state, action, and type). This function can be called in any of the following ways:\n",
    "\n"
   ]
  },
  {
   "cell_type": "code",
   "execution_count": null,
   "metadata": {},
   "outputs": [],
   "source": [
    "parrot(1000)                                          # 1 positional argument\n",
    "parrot(voltage=1000)                                  # 1 keyword argument\n",
    "parrot(voltage=1000000, action='VOOOOOM')             # 2 keyword arguments\n",
    "#parrot(action='VOOOOOM', voltage=1000000)             # 2 keyword arguments\n",
    "#parrot('a million', 'bereft of life', 'jump')         # 3 positional arguments\n",
    "parrot('a thousand', state='pushing up the daisies')  # 1 positional, 1 keyword"
   ]
  },
  {
   "cell_type": "markdown",
   "metadata": {},
   "source": [
    "but all the following calls would be invalid:\n",
    "\n"
   ]
  },
  {
   "cell_type": "code",
   "execution_count": null,
   "metadata": {},
   "outputs": [],
   "source": [
    "parrot()                     # required argument missing\n",
    "parrot(voltage=5.0, 'dead')  # non-keyword argument after a keyword argument\n",
    "parrot(110, voltage=220)     # duplicate value for the same argument\n",
    "parrot(actor='John Cleese')  # unknown keyword argument"
   ]
  },
  {
   "cell_type": "code",
   "execution_count": null,
   "metadata": {},
   "outputs": [],
   "source": [
    "def numval(x, y, multiplier = 1, greetings = 'Thank you for contacting us'):\n",
    "    if greetings is not None:\n",
    "        print(greetings)\n",
    "    return (x + y) * multiplier"
   ]
  },
  {
   "cell_type": "code",
   "execution_count": null,
   "metadata": {},
   "outputs": [],
   "source": [
    "numval(1, 2)"
   ]
  },
  {
   "cell_type": "code",
   "execution_count": null,
   "metadata": {},
   "outputs": [],
   "source": [
    "numval(1, 2, multiplier=0.5, greetings='Now you\\'re here')"
   ]
  },
  {
   "cell_type": "markdown",
   "metadata": {},
   "source": [
    ">keywords are a natural way to grow new functionality without \"breaking\" old code\n",
    "\n",
    ">We can return whatever we want from a function (dictionary, tuple, lists, strings, etc.). This is really awesome...\n",
    "\n",
    "### *arg, **kwargs captures unspecified args and keywords\n",
    "\n",
    "https://docs.python.org/3/tutorial/controlflow.html#keyword-arguments\n"
   ]
  },
  {
   "cell_type": "code",
   "execution_count": null,
   "metadata": {},
   "outputs": [],
   "source": [
    "def cheeseshop(kind, *args, **kwargs):\n",
    "    print('-- Do you have any', kind + '?')\n",
    "    print('-- I\\'m sorry, we have ran out of', kind +'.')\n",
    "    for arg in args:\n",
    "        print(arg)\n",
    "    print(' ')    \n",
    "    print('-' * 50)\n",
    "    keys = list(kwargs.keys())\n",
    "    keys.sort()\n",
    "    for kw in keys:\n",
    "        print(kw, ':', kwargs[kw])"
   ]
  },
  {
   "cell_type": "code",
   "execution_count": null,
   "metadata": {},
   "outputs": [],
   "source": [
    "cheeseshop('Hamburger', 'It\\'s very hot here', \n",
    "           'It\\'s really very hot here sir', \n",
    "          shopkeeper = 'Raul K',\n",
    "          client = 'John D',\n",
    "          sketch = 'Cheese shop sketch'\n",
    "          )"
   ]
  },
  {
   "cell_type": "markdown",
   "metadata": {},
   "source": [
    "## Documentation\n",
    "\n",
    "Just the Right thing to Do and Python makes it dead simple\n",
    "\n",
    "### Docstring: the first unassigned string in a function (or class, method, program, etc.)"
   ]
  },
  {
   "cell_type": "code",
   "execution_count": null,
   "metadata": {},
   "outputs": [],
   "source": [
    "def numop(x, y, multiplier = 1.0, greetings = 'Thank you for contacting us today.'):\n",
    "    '''\n",
    "    numop -- This function does a simple operation on numbers.\n",
    "    We expect x and y are numbers and return x+y times the multiplier. \n",
    "    multiplier is also a number ( float is preferred) and its optional.\n",
    "    It defaults to 1.0.\n",
    "    You can also specify a small greeting as a string.\n",
    "    \n",
    "    '''\n",
    "    \n",
    "    if greetings is not None:\n",
    "        print(greetings)\n",
    "        \n",
    "    return (x + y) * multiplier"
   ]
  },
  {
   "cell_type": "code",
   "execution_count": null,
   "metadata": {},
   "outputs": [],
   "source": [
    "numop?"
   ]
  },
  {
   "cell_type": "code",
   "execution_count": null,
   "metadata": {},
   "outputs": [],
   "source": [
    "help(numop)"
   ]
  },
  {
   "cell_type": "code",
   "execution_count": null,
   "metadata": {},
   "outputs": [],
   "source": [
    "%%writefile numop.py\n",
    "\n",
    "\"\"\"\n",
    "Some functions written to demonstrate a bunch of concepts like modules, \n",
    "import, and command-line programming.\n",
    "\n",
    "\"\"\"\n",
    "\n",
    "def numop(x, y, multiplier = 1.0, greetings = 'Thank you for your inquiry.'):\n",
    "    \n",
    "    '''numop -- this does a simple operation on two numbers. \n",
    "     We expect x,y are numbers and return x + y times the multiplier\n",
    "     multiplier is also a number (a float is preferred) and is optional. \n",
    "     It defaults to 1.0.\n",
    "     You can also specify a small greeting as a string.\n",
    "     \n",
    "    '''\n",
    "    \n",
    "    if greetings is not None:\n",
    "        \n",
    "        print(greetings)\n",
    "        \n",
    "    return (x + y) * multiplier"
   ]
  },
  {
   "cell_type": "code",
   "execution_count": null,
   "metadata": {},
   "outputs": [],
   "source": [
    "!pydoc -w numop"
   ]
  },
  {
   "cell_type": "code",
   "execution_count": null,
   "metadata": {},
   "outputs": [],
   "source": [
    "from IPython.display import IFrame\n",
    "IFrame('numop.html', width=700, height=350)"
   ]
  },
  {
   "cell_type": "code",
   "execution_count": null,
   "metadata": {},
   "outputs": [],
   "source": []
  }
 ],
 "metadata": {
  "kernelspec": {
   "display_name": "Python 3",
   "language": "python",
   "name": "python3"
  },
  "language_info": {
   "codemirror_mode": {
    "name": "ipython",
    "version": 3
   },
   "file_extension": ".py",
   "mimetype": "text/x-python",
   "name": "python",
   "nbconvert_exporter": "python",
   "pygments_lexer": "ipython3",
   "version": "3.6.5"
  }
 },
 "nbformat": 4,
 "nbformat_minor": 2
}
