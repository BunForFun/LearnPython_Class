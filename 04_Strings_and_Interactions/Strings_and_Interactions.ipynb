{
 "cells": [
  {
   "cell_type": "markdown",
   "metadata": {},
   "source": [
    "# Strings, File I/O and Interactions\n",
    "\n",
    "### Strings can do operations on themselves\n",
    "\n",
    "    .lower(), .upper(), .capitalize()"
   ]
  },
  {
   "cell_type": "code",
   "execution_count": 4,
   "metadata": {},
   "outputs": [
    {
     "data": {
      "text/plain": [
       "'Funky town'"
      ]
     },
     "execution_count": 4,
     "metadata": {},
     "output_type": "execute_result"
    }
   ],
   "source": [
    "\"funKY tOwn\".capitalize()"
   ]
  },
  {
   "cell_type": "code",
   "execution_count": 6,
   "metadata": {},
   "outputs": [
    {
     "data": {
      "text/plain": [
       "'funky town'"
      ]
     },
     "execution_count": 6,
     "metadata": {},
     "output_type": "execute_result"
    }
   ],
   "source": [
    "\"Funky tOwn\".lower()"
   ]
  },
  {
   "cell_type": "code",
   "execution_count": 7,
   "metadata": {},
   "outputs": [
    {
     "data": {
      "text/plain": [
       "'Funky Town'"
      ]
     },
     "execution_count": 7,
     "metadata": {},
     "output_type": "execute_result"
    }
   ],
   "source": [
    "\"fUNKY tOWN\".swapcase()"
   ]
  },
  {
   "cell_type": "markdown",
   "metadata": {},
   "source": [
    "How you call this:\n",
    "\n",
    " >.split([sep [,maxsplit]])"
   ]
  },
  {
   "cell_type": "code",
   "execution_count": 12,
   "metadata": {},
   "outputs": [
    {
     "data": {
      "text/plain": [
       "['funKY', 'toWN']"
      ]
     },
     "execution_count": 12,
     "metadata": {},
     "output_type": "execute_result"
    }
   ],
   "source": [
    "\"funKY toWN\".split()"
   ]
  },
  {
   "cell_type": "code",
   "execution_count": 9,
   "metadata": {},
   "outputs": [
    {
     "data": {
      "text/plain": [
       "['Funky', 'town']"
      ]
     },
     "execution_count": 9,
     "metadata": {},
     "output_type": "execute_result"
    }
   ],
   "source": [
    "\"funKY tOwn\".capitalize().split()"
   ]
  },
  {
   "cell_type": "code",
   "execution_count": 10,
   "metadata": {},
   "outputs": [
    {
     "data": {
      "text/plain": [
       "['Funky', 'Town']"
      ]
     },
     "execution_count": 10,
     "metadata": {},
     "output_type": "execute_result"
    }
   ],
   "source": [
    "[x.capitalize() for x in \"funKY tOwn\".split()]"
   ]
  },
  {
   "cell_type": "code",
   "execution_count": 13,
   "metadata": {},
   "outputs": [
    {
     "data": {
      "text/plain": [
       "['I want to take yo', ' to, f', 'nKY tOwn']"
      ]
     },
     "execution_count": 13,
     "metadata": {},
     "output_type": "execute_result"
    }
   ],
   "source": [
    "\"I want to take you to, funKY tOwn\".split(\"u\")"
   ]
  },
  {
   "cell_type": "code",
   "execution_count": 14,
   "metadata": {},
   "outputs": [
    {
     "data": {
      "text/plain": [
       "['I want to take ', ' to, funKY tOwn']"
      ]
     },
     "execution_count": 14,
     "metadata": {},
     "output_type": "execute_result"
    }
   ],
   "source": [
    "\"I want to take you to, funKY tOwn\".split(\"you\")"
   ]
  },
  {
   "cell_type": "markdown",
   "metadata": {},
   "source": [
    "## .strip(), .join(), .replace()\n"
   ]
  },
  {
   "cell_type": "code",
   "execution_count": 17,
   "metadata": {},
   "outputs": [
    {
     "data": {
      "text/plain": [
       "'Dog, Cat, Spam, Conference, 2, 3.14'"
      ]
     },
     "execution_count": 17,
     "metadata": {},
     "output_type": "execute_result"
    }
   ],
   "source": [
    "csv_string = 'Dog, Cat, Spam, Conference, 2, 3.14   \\n\\t'\n",
    "csv_string.strip()"
   ]
  },
  {
   "cell_type": "code",
   "execution_count": 18,
   "metadata": {},
   "outputs": [],
   "source": [
    "a = 'spam\\n'"
   ]
  },
  {
   "cell_type": "code",
   "execution_count": 19,
   "metadata": {},
   "outputs": [
    {
     "data": {
      "text/plain": [
       "'pam\\n'"
      ]
     },
     "execution_count": 19,
     "metadata": {},
     "output_type": "execute_result"
    }
   ],
   "source": [
    "a.strip('s')"
   ]
  },
  {
   "cell_type": "code",
   "execution_count": 20,
   "metadata": {},
   "outputs": [
    {
     "name": "stdout",
     "output_type": "stream",
     "text": [
      "['Dog', 'Cat', 'Spam', 'Conference', '2', '3.14']\n"
     ]
    }
   ],
   "source": [
    "clean_list = [x.strip() for x in csv_string.split(',')]\n",
    "print(clean_list)"
   ]
  },
  {
   "cell_type": "markdown",
   "metadata": {},
   "source": [
    "### .join() allows you to glue a list of strings together with a certain string\n",
    "\n"
   ]
  },
  {
   "cell_type": "code",
   "execution_count": 24,
   "metadata": {},
   "outputs": [
    {
     "name": "stdout",
     "output_type": "stream",
     "text": [
      "Dog, Cat, Spam, Conference, 2, 3.14\n"
     ]
    }
   ],
   "source": [
    "print(', '.join(clean_list))"
   ]
  },
  {
   "cell_type": "code",
   "execution_count": 25,
   "metadata": {},
   "outputs": [
    {
     "name": "stdout",
     "output_type": "stream",
     "text": [
      "Dog\tCat\tSpam\tConference\t2\t3.14\n"
     ]
    }
   ],
   "source": [
    "print('\\t'.join(clean_list))"
   ]
  },
  {
   "cell_type": "markdown",
   "metadata": {},
   "source": [
    "### .replace() strings in strings\n",
    "\n"
   ]
  },
  {
   "cell_type": "code",
   "execution_count": 27,
   "metadata": {},
   "outputs": [
    {
     "name": "stdout",
     "output_type": "stream",
     "text": [
      "Dog,Cat,Spam,Conference,2,3.14\n",
      "\t\n"
     ]
    }
   ],
   "source": [
    "csv_string = 'Dog, Cat, Spam, Conference, 2, 3.14   \\n\\t'\n",
    "alt_csv = csv_string.replace(' ', '')\n",
    "print(alt_csv)"
   ]
  },
  {
   "cell_type": "code",
   "execution_count": 29,
   "metadata": {},
   "outputs": [
    {
     "name": "stdout",
     "output_type": "stream",
     "text": [
      "Dog\tCat\tSpam\tConference\t2\t3.14\n"
     ]
    }
   ],
   "source": [
    "print(csv_string.strip().replace(' ', '').replace(',', '\\t'))"
   ]
  },
  {
   "cell_type": "markdown",
   "metadata": {},
   "source": [
    "### .find()\n",
    "\n",
    "incredibly useful searching, returning the index of the search"
   ]
  },
  {
   "cell_type": "code",
   "execution_count": 30,
   "metadata": {},
   "outputs": [
    {
     "data": {
      "text/plain": [
       "1"
      ]
     },
     "execution_count": 30,
     "metadata": {},
     "output_type": "execute_result"
    }
   ],
   "source": [
    "s = 'My funny Christmas'\n",
    "s.find('y')"
   ]
  },
  {
   "cell_type": "code",
   "execution_count": 36,
   "metadata": {},
   "outputs": [],
   "source": [
    "s.find?"
   ]
  },
  {
   "cell_type": "code",
   "execution_count": 34,
   "metadata": {},
   "outputs": [
    {
     "data": {
      "text/plain": [
       "3"
      ]
     },
     "execution_count": 34,
     "metadata": {},
     "output_type": "execute_result"
    }
   ],
   "source": [
    "s.find('funny')"
   ]
  },
  {
   "cell_type": "code",
   "execution_count": 35,
   "metadata": {},
   "outputs": [
    {
     "data": {
      "text/plain": [
       "'funny Christmas'"
      ]
     },
     "execution_count": 35,
     "metadata": {},
     "output_type": "execute_result"
    }
   ],
   "source": [
    "s[s.find('funny'):]"
   ]
  },
  {
   "cell_type": "code",
   "execution_count": 39,
   "metadata": {},
   "outputs": [
    {
     "data": {
      "text/plain": [
       "'Christ'"
      ]
     },
     "execution_count": 39,
     "metadata": {},
     "output_type": "execute_result"
    }
   ],
   "source": [
    "s[s.find('Christmas'):-3]"
   ]
  },
  {
   "cell_type": "code",
   "execution_count": 41,
   "metadata": {},
   "outputs": [
    {
     "data": {
      "text/plain": [
       "-1"
      ]
     },
     "execution_count": 41,
     "metadata": {},
     "output_type": "execute_result"
    }
   ],
   "source": [
    "s.find('k')"
   ]
  },
  {
   "cell_type": "code",
   "execution_count": 44,
   "metadata": {},
   "outputs": [
    {
     "name": "stdout",
     "output_type": "stream",
     "text": [
      "Argentine contains tine.\n",
      "Quarentine contains tine.\n"
     ]
    }
   ],
   "source": [
    "ss = [s, 'Argentine', 'American', 'Quarentine', 'Manafort']\n",
    "for thestring in ss:\n",
    "    if thestring.find('tine') != -1:\n",
    "        print('' + str(thestring) + ' contains tine.')"
   ]
  },
  {
   "cell_type": "markdown",
   "metadata": {},
   "source": [
    "### string module\n",
    "\n",
    "exposes useful variables and functions"
   ]
  },
  {
   "cell_type": "code",
   "execution_count": 45,
   "metadata": {},
   "outputs": [],
   "source": [
    "import string"
   ]
  },
  {
   "cell_type": "code",
   "execution_count": 46,
   "metadata": {},
   "outputs": [
    {
     "data": {
      "text/plain": [
       "'abcdefghijklmnopqrstuvwxyzABCDEFGHIJKLMNOPQRSTUVWXYZ'"
      ]
     },
     "execution_count": 46,
     "metadata": {},
     "output_type": "execute_result"
    }
   ],
   "source": [
    "string.ascii_letters"
   ]
  },
  {
   "cell_type": "code",
   "execution_count": 47,
   "metadata": {},
   "outputs": [
    {
     "data": {
      "text/plain": [
       "'0123456789'"
      ]
     },
     "execution_count": 47,
     "metadata": {},
     "output_type": "execute_result"
    }
   ],
   "source": [
    "string.digits"
   ]
  },
  {
   "cell_type": "code",
   "execution_count": 49,
   "metadata": {},
   "outputs": [
    {
     "data": {
      "text/plain": [
       "'ABCDEFGHIJKLMNOPQRSTUVWXYZ'"
      ]
     },
     "execution_count": 49,
     "metadata": {},
     "output_type": "execute_result"
    }
   ],
   "source": [
    "string.ascii_uppercase"
   ]
  },
  {
   "cell_type": "markdown",
   "metadata": {},
   "source": [
    "### String Formatting\n",
    "\n",
    "casting using `str()` is very limited Python gives access to C-like string formatting\n",
    "\n",
    "       usage:  “%(format)” % (variable)"
   ]
  },
  {
   "cell_type": "code",
   "execution_count": 53,
   "metadata": {},
   "outputs": [
    {
     "name": "stdout",
     "output_type": "stream",
     "text": [
      "My favourite integer is 3 and my favourite float is 3.141593, which to three decimal place is 3.142 and in exponential form is 3.141593e+00\n"
     ]
    }
   ],
   "source": [
    "import math\n",
    "print('My favourite integer is %i and my favourite float is %f,\\\n",
    " which to three decimal place is %0.3f and in exponential form is %e' \\\n",
    "     %(3, math.pi, math.pi, math.pi))"
   ]
  },
  {
   "cell_type": "markdown",
   "metadata": {},
   "source": [
    "common formats:\n",
    "\n",
    "    f (float), i (integer), s (string), g (nicely formatting floats)\n",
    "\n",
    "http://docs.python.org/release/2.7.2/library/stdtypes.html#string-formatting-operations\n",
    "\n",
    " \n",
    "\n",
    "### String Formatting\n",
    "\n",
    "    % escapes “%”"
   ]
  },
  {
   "cell_type": "code",
   "execution_count": 55,
   "metadata": {},
   "outputs": [
    {
     "name": "stdout",
     "output_type": "stream",
     "text": [
      "I promised to give 100%% effort whenever asked of\n"
     ]
    }
   ],
   "source": [
    "print('I promised to give 100%% effort whenever asked of')"
   ]
  },
  {
   "cell_type": "markdown",
   "metadata": {},
   "source": [
    "    + and zero-padding\n"
   ]
  },
  {
   "cell_type": "code",
   "execution_count": 57,
   "metadata": {},
   "outputs": [
    {
     "name": "stdout",
     "output_type": "stream",
     "text": [
      "3.141593\n",
      "+3.141593\n",
      "-3.141593\n",
      "  3.141593\n",
      "        pi\n"
     ]
    }
   ],
   "source": [
    "print('%f\\n%+f\\n%f\\n%10f\\n%10s' %(math.pi, math.pi, -1.0 * math.pi, math.pi, 'pi'))"
   ]
  },
  {
   "cell_type": "markdown",
   "metadata": {},
   "source": [
    "### String Formatting\n",
    "\n",
    "the (somewhat) preferred way\n",
    "\n",
    "    is string.format(value0,value1,....)"
   ]
  },
  {
   "cell_type": "code",
   "execution_count": 59,
   "metadata": {},
   "outputs": [
    {
     "data": {
      "text/plain": [
       "'On Friday, I feel Friday'"
      ]
     },
     "execution_count": 59,
     "metadata": {},
     "output_type": "execute_result"
    }
   ],
   "source": [
    "'On {}, I feel {}' .format('Friday', 'groovy')"
   ]
  },
  {
   "cell_type": "code",
   "execution_count": 60,
   "metadata": {},
   "outputs": [
    {
     "data": {
      "text/plain": [
       "'on Saturday, I feel Saturday'"
      ]
     },
     "execution_count": 60,
     "metadata": {},
     "output_type": "execute_result"
    }
   ],
   "source": [
    "'on {0}, I feel {0}'.format(\"Saturday\",\"groovy\")"
   ]
  },
  {
   "cell_type": "code",
   "execution_count": 62,
   "metadata": {},
   "outputs": [
    {
     "data": {
      "text/plain": [
       "'on Saturday, I feel groovy'"
      ]
     },
     "execution_count": 62,
     "metadata": {},
     "output_type": "execute_result"
    }
   ],
   "source": [
    "'on {0}, I feel {1}'.format(\"Saturday\",\"groovy\")"
   ]
  },
  {
   "cell_type": "code",
   "execution_count": 63,
   "metadata": {},
   "outputs": [
    {
     "data": {
      "text/plain": [
       "'on groovy, I feel Saturday'"
      ]
     },
     "execution_count": 63,
     "metadata": {},
     "output_type": "execute_result"
    }
   ],
   "source": [
    "'on {1}, I feel {0}'.format(\"Saturday\",\"groovy\")"
   ]
  },
  {
   "cell_type": "markdown",
   "metadata": {},
   "source": [
    "you can assign by argument position or by name\n",
    "\n"
   ]
  },
  {
   "cell_type": "code",
   "execution_count": 67,
   "metadata": {},
   "outputs": [
    {
     "data": {
      "text/plain": [
       "'Fly me to The moon'"
      ]
     },
     "execution_count": 67,
     "metadata": {},
     "output_type": "execute_result"
    }
   ],
   "source": [
    "'{desire} to {place}'.format(desire = 'Fly me', \n",
    "                            place = 'The moon')"
   ]
  },
  {
   "cell_type": "code",
   "execution_count": 69,
   "metadata": {},
   "outputs": [
    {
     "data": {
      "text/plain": [
       "\"Fly me to The Moon or else I wouldn't visit The Moon\""
      ]
     },
     "execution_count": 69,
     "metadata": {},
     "output_type": "execute_result"
    }
   ],
   "source": [
    "'{desire} to {place} or else I wouldn\\'t visit {place}'. format(\n",
    "                                                    desire = 'Fly me',\n",
    "                                                    place = 'The Moon')"
   ]
  },
  {
   "cell_type": "code",
   "execution_count": 72,
   "metadata": {},
   "outputs": [
    {
     "data": {
      "text/plain": [
       "'I want to take you to funky town'"
      ]
     },
     "execution_count": 72,
     "metadata": {},
     "output_type": "execute_result"
    }
   ],
   "source": [
    "f = {'desire': 'I want to take you', 'place': 'funky town'}\n",
    "'{desire} to {place}'.format(**f)"
   ]
  },
  {
   "cell_type": "markdown",
   "metadata": {},
   "source": [
    "### Formatting comes after a colon (:)\n"
   ]
  },
  {
   "cell_type": "code",
   "execution_count": 81,
   "metadata": {},
   "outputs": [
    {
     "name": "stdout",
     "output_type": "stream",
     "text": [
      "3.14\n"
     ]
    }
   ],
   "source": [
    "print('%03.2f' %3.14159)"
   ]
  },
  {
   "cell_type": "code",
   "execution_count": 88,
   "metadata": {},
   "outputs": [
    {
     "data": {
      "text/plain": [
       "True"
      ]
     },
     "execution_count": 88,
     "metadata": {},
     "output_type": "execute_result"
    }
   ],
   "source": [
    "('%03.2f' % 3.14159) == '{:03.2f}'.format(3.14159)"
   ]
  },
  {
   "cell_type": "code",
   "execution_count": 99,
   "metadata": {},
   "outputs": [
    {
     "data": {
      "text/plain": [
       "'3.14'"
      ]
     },
     "execution_count": 99,
     "metadata": {},
     "output_type": "execute_result"
    }
   ],
   "source": [
    "'{0:03.2f}'.format(3.14159, 42)"
   ]
  },
  {
   "cell_type": "code",
   "execution_count": 100,
   "metadata": {},
   "outputs": [
    {
     "name": "stdout",
     "output_type": "stream",
     "text": [
      "{1:<10.2f}\n"
     ]
    }
   ],
   "source": [
    "x = 10\n",
    "strformat = '{1:<%i.2f}' %x\n",
    "print(strformat)"
   ]
  },
  {
   "cell_type": "code",
   "execution_count": 101,
   "metadata": {},
   "outputs": [
    {
     "data": {
      "text/plain": [
       "'42.00     '"
      ]
     },
     "execution_count": 101,
     "metadata": {},
     "output_type": "execute_result"
    }
   ],
   "source": [
    "strformat.format(3.14159, 42)"
   ]
  },
  {
   "cell_type": "code",
   "execution_count": 102,
   "metadata": {},
   "outputs": [
    {
     "data": {
      "text/plain": [
       "'int: 42;  hex: 2a;  oct: 52;  bin: 101010'"
      ]
     },
     "execution_count": 102,
     "metadata": {},
     "output_type": "execute_result"
    }
   ],
   "source": [
    "# format also supports binary numbers\n",
    "\"int: {0:d};  hex: {0:x};  oct: {0:o};  bin: {0:b}\".format(42)"
   ]
  },
  {
   "cell_type": "code",
   "execution_count": 103,
   "metadata": {},
   "outputs": [
    {
     "data": {
      "text/plain": [
       "'1111'"
      ]
     },
     "execution_count": 103,
     "metadata": {},
     "output_type": "execute_result"
    }
   ],
   "source": [
    "'{0:b}'.format(15)"
   ]
  },
  {
   "cell_type": "markdown",
   "metadata": {},
   "source": [
    "## File I/O (read/write)\n",
    "\n",
    "    .open() and .close() are builtin functions"
   ]
  },
  {
   "cell_type": "code",
   "execution_count": 104,
   "metadata": {},
   "outputs": [
    {
     "name": "stdout",
     "output_type": "stream",
     "text": [
      "Writing mydata.dat\n"
     ]
    }
   ],
   "source": [
    "%%file mydata.dat\n",
    "This is my first file I/O. Zing!"
   ]
  },
  {
   "cell_type": "code",
   "execution_count": 105,
   "metadata": {},
   "outputs": [
    {
     "name": "stdout",
     "output_type": "stream",
     "text": [
      "<class '_io.TextIOWrapper'>\n"
     ]
    },
    {
     "data": {
      "text/plain": [
       "<function TextIOWrapper.close()>"
      ]
     },
     "execution_count": 105,
     "metadata": {},
     "output_type": "execute_result"
    }
   ],
   "source": [
    "file_stream = open('mydata.dat', 'r'); print(type(file_stream))\n",
    "file_stream.close"
   ]
  },
  {
   "cell_type": "markdown",
   "metadata": {},
   "source": [
    "    open modes: r (read), w (write), r+ (read + update), rb (read as a binary stream, ...), rt (read as text file)\n",
    "\n",
    "    Writing data: .write() or .writelines()"
   ]
  },
  {
   "cell_type": "code",
   "execution_count": 106,
   "metadata": {},
   "outputs": [
    {
     "name": "stdout",
     "output_type": "stream",
     "text": [
      "This is my second I/O. Zang!"
     ]
    }
   ],
   "source": [
    "f = open('test.dat', 'w')\n",
    "f.write('This is my second I/O. Zang!')\n",
    "f.close()\n",
    "!cat test.dat"
   ]
  },
  {
   "cell_type": "code",
   "execution_count": 108,
   "metadata": {},
   "outputs": [
    {
     "name": "stdout",
     "output_type": "stream",
     "text": [
      "a = ['This is my third file I/O. Zang!'] Take that Dr"
     ]
    }
   ],
   "source": [
    "f = open('test.dat', 'w')\n",
    "f.writelines([\"a = ['This is my third file I/O. Zang!']\", ' Take that Dr'])\n",
    "f.close()\n",
    "!cat test.dat"
   ]
  },
  {
   "cell_type": "markdown",
   "metadata": {},
   "source": [
    "    Likewise, there is .readlines() and .read()\n",
    "\n"
   ]
  },
  {
   "cell_type": "code",
   "execution_count": 110,
   "metadata": {},
   "outputs": [
    {
     "name": "stdout",
     "output_type": "stream",
     "text": [
      "['This is my first file I/O. Zing!']\n"
     ]
    }
   ],
   "source": [
    "f= open(\"mydata.dat\",\"r\")\n",
    "data = f.readlines()\n",
    "f.close() ; print(data)"
   ]
  },
  {
   "cell_type": "code",
   "execution_count": 112,
   "metadata": {},
   "outputs": [
    {
     "data": {
      "text/plain": [
       "list"
      ]
     },
     "execution_count": 112,
     "metadata": {},
     "output_type": "execute_result"
    }
   ],
   "source": [
    "type(data)"
   ]
  },
  {
   "cell_type": "code",
   "execution_count": 113,
   "metadata": {},
   "outputs": [
    {
     "name": "stdout",
     "output_type": "stream",
     "text": [
      "Writing tabbify_my_csv.py\n"
     ]
    }
   ],
   "source": [
    "%%file tabbify_my_csv.py\n",
    "\"\"\"\n",
    "small copy program that turns a csv file into a tabbed file\n",
    "\n",
    "\"\"\"\n",
    "import os\n",
    "\n",
    "def tabbify(infilename,outfilename,ignore_comments=True,comment_chars=\"#;/\"):\n",
    "    \"\"\"\n",
    "INPUT: infilename\n",
    "OUTPUT: creates a file called outfilename\n",
    "    \"\"\"\n",
    "    if not os.path.exists(infilename):\n",
    "        return  # do nothing if the file isn't there\n",
    "    f = open(infilename,\"r\")\n",
    "    o = open(outfilename,\"w\")\n",
    "    inlines = f.readlines() ; f.close()\n",
    "    outlines = []\n",
    "    for l in inlines:\n",
    "        if ignore_comments and (l[0] in comment_chars):\n",
    "            outlines.append(l)\n",
    "        else:\n",
    "            outlines.append(l.replace(\",\",\"\\t\"))\n",
    "    o.writelines(outlines) ; o.close()"
   ]
  },
  {
   "cell_type": "code",
   "execution_count": 114,
   "metadata": {},
   "outputs": [
    {
     "name": "stdout",
     "output_type": "stream",
     "text": [
      "# Date,Open,High,Low,Close,Volume,Adj Close\n",
      "2008-10-14,393.53,394.50,357.00,362.71,7784800,362.71\n",
      "2008-10-13,355.79,381.95,345.75,381.02,8905500,381.02\n",
      "2008-10-10,313.16,341.89,310.30,332.00,10597800,332.00\n",
      "2008-10-09,344.52,348.57,321.67,328.98,8075000,328.98\n",
      "2008-10-08,330.16,358.99,326.11,338.11,11826400,338.11\n",
      "2008-10-07,373.33,374.98,345.37,346.01,11054400,346.01\n",
      "2008-10-06,373.98,375.99,357.16,371.21,11220600,371.21\n",
      "2008-10-03,397.35,412.50,383.07,386.91,7992900,386.91\n",
      "2008-10-02,409.79,409.98,386.00,390.49,5984900,390.49\n"
     ]
    }
   ],
   "source": [
    "!cat google_share_price.csv |head"
   ]
  },
  {
   "cell_type": "code",
   "execution_count": 115,
   "metadata": {},
   "outputs": [],
   "source": [
    "%run tabbify_my_csv.py\n",
    "tabbify(\"google_share_price.csv\",\"google_share_price.tsv\")"
   ]
  },
  {
   "cell_type": "code",
   "execution_count": 116,
   "metadata": {},
   "outputs": [
    {
     "name": "stdout",
     "output_type": "stream",
     "text": [
      "# Date,Open,High,Low,Close,Volume,Adj Close\r\n",
      "2008-10-14,393.53,394.50,357.00,362.71,7784800,362.71\r\n",
      "2008-10-13,355.79,381.95,345.75,381.02,8905500,381.02\r\n",
      "2008-10-10,313.16,341.89,310.30,332.00,10597800,332.00\r\n",
      "2008-10-09,344.52,348.57,321.67,328.98,8075000,328.98\r\n",
      "2008-10-08,330.16,358.99,326.11,338.11,11826400,338.11\r\n",
      "2008-10-07,373.33,374.98,345.37,346.01,11054400,346.01\r\n",
      "2008-10-06,373.98,375.99,357.16,371.21,11220600,371.21\r\n",
      "2008-10-03,397.35,412.50,383.07,386.91,7992900,386.91\r\n",
      "2008-10-02,409.79,409.98,386.00,390.49,5984900,390.49\r\n"
     ]
    }
   ],
   "source": [
    "!cat google_share_price.csv |head"
   ]
  },
  {
   "cell_type": "code",
   "execution_count": 117,
   "metadata": {},
   "outputs": [
    {
     "name": "stdout",
     "output_type": "stream",
     "text": [
      "# Date,Open,High,Low,Close,Volume,Adj Close\r\n",
      "2008-10-14\t393.53\t394.50\t357.00\t362.71\t7784800\t362.71\r\n",
      "2008-10-13\t355.79\t381.95\t345.75\t381.02\t8905500\t381.02\r\n",
      "2008-10-10\t313.16\t341.89\t310.30\t332.00\t10597800\t332.00\r\n",
      "2008-10-09\t344.52\t348.57\t321.67\t328.98\t8075000\t328.98\r\n",
      "2008-10-08\t330.16\t358.99\t326.11\t338.11\t11826400\t338.11\r\n",
      "2008-10-07\t373.33\t374.98\t345.37\t346.01\t11054400\t346.01\r\n",
      "2008-10-06\t373.98\t375.99\t357.16\t371.21\t11220600\t371.21\r\n",
      "2008-10-03\t397.35\t412.50\t383.07\t386.91\t7992900\t386.91\r\n",
      "2008-10-02\t409.79\t409.98\t386.00\t390.49\t5984900\t390.49\r\n"
     ]
    }
   ],
   "source": [
    "!cat google_share_price.tsv |head"
   ]
  },
  {
   "cell_type": "markdown",
   "metadata": {},
   "source": [
    "# Advanced Interactions"
   ]
  },
  {
   "cell_type": "code",
   "execution_count": null,
   "metadata": {},
   "outputs": [],
   "source": []
  }
 ],
 "metadata": {
  "kernelspec": {
   "display_name": "Python 3",
   "language": "python",
   "name": "python3"
  },
  "language_info": {
   "codemirror_mode": {
    "name": "ipython",
    "version": 3
   },
   "file_extension": ".py",
   "mimetype": "text/x-python",
   "name": "python",
   "nbconvert_exporter": "python",
   "pygments_lexer": "ipython3",
   "version": "3.6.5"
  }
 },
 "nbformat": 4,
 "nbformat_minor": 2
}
