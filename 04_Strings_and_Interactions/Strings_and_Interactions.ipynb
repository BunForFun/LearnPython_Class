{
 "cells": [
  {
   "cell_type": "markdown",
   "metadata": {},
   "source": [
    "# Strings, File I/O and Interactions\n",
    "\n",
    "### Strings can do operations on themselves\n",
    "\n",
    "    .lower(), .upper(), .capitalize()"
   ]
  },
  {
   "cell_type": "code",
   "execution_count": null,
   "metadata": {},
   "outputs": [],
   "source": [
    "\"funKY tOwn\".capitalize()"
   ]
  },
  {
   "cell_type": "code",
   "execution_count": null,
   "metadata": {},
   "outputs": [],
   "source": [
    "\"Funky tOwn\".lower()"
   ]
  },
  {
   "cell_type": "code",
   "execution_count": null,
   "metadata": {},
   "outputs": [],
   "source": [
    "\"fUNKY tOWN\".swapcase()"
   ]
  },
  {
   "cell_type": "markdown",
   "metadata": {},
   "source": [
    "How you call this:\n",
    "\n",
    " >.split([sep [,maxsplit]])"
   ]
  },
  {
   "cell_type": "code",
   "execution_count": null,
   "metadata": {},
   "outputs": [],
   "source": [
    "\"funKY toWN\".split()"
   ]
  },
  {
   "cell_type": "code",
   "execution_count": null,
   "metadata": {},
   "outputs": [],
   "source": [
    "\"funKY tOwn\".capitalize().split()"
   ]
  },
  {
   "cell_type": "code",
   "execution_count": null,
   "metadata": {},
   "outputs": [],
   "source": [
    "[x.capitalize() for x in \"funKY tOwn\".split()]"
   ]
  },
  {
   "cell_type": "code",
   "execution_count": null,
   "metadata": {},
   "outputs": [],
   "source": [
    "\"I want to take you to, funKY tOwn\".split(\"u\")"
   ]
  },
  {
   "cell_type": "code",
   "execution_count": null,
   "metadata": {},
   "outputs": [],
   "source": [
    "\"I want to take you to, funKY tOwn\".split(\"you\")"
   ]
  },
  {
   "cell_type": "markdown",
   "metadata": {},
   "source": [
    "## .strip(), .join(), .replace()\n"
   ]
  },
  {
   "cell_type": "code",
   "execution_count": null,
   "metadata": {},
   "outputs": [],
   "source": [
    "csv_string = 'Dog, Cat, Spam, Conference, 2, 3.14   \\n\\t'\n",
    "csv_string.strip()"
   ]
  },
  {
   "cell_type": "code",
   "execution_count": null,
   "metadata": {},
   "outputs": [],
   "source": [
    "a = 'spam\\n'"
   ]
  },
  {
   "cell_type": "code",
   "execution_count": null,
   "metadata": {},
   "outputs": [],
   "source": [
    "a.strip('s')"
   ]
  },
  {
   "cell_type": "code",
   "execution_count": null,
   "metadata": {},
   "outputs": [],
   "source": [
    "clean_list = [x.strip() for x in csv_string.split(',')]\n",
    "print(clean_list)"
   ]
  },
  {
   "cell_type": "markdown",
   "metadata": {},
   "source": [
    "### .join() allows you to glue a list of strings together with a certain string\n",
    "\n"
   ]
  },
  {
   "cell_type": "code",
   "execution_count": null,
   "metadata": {},
   "outputs": [],
   "source": [
    "print(', '.join(clean_list))"
   ]
  },
  {
   "cell_type": "code",
   "execution_count": null,
   "metadata": {},
   "outputs": [],
   "source": [
    "print('\\t'.join(clean_list))"
   ]
  },
  {
   "cell_type": "markdown",
   "metadata": {},
   "source": [
    "### .replace() strings in strings\n",
    "\n"
   ]
  },
  {
   "cell_type": "code",
   "execution_count": null,
   "metadata": {},
   "outputs": [],
   "source": [
    "csv_string = 'Dog, Cat, Spam, Conference, 2, 3.14   \\n\\t'\n",
    "alt_csv = csv_string.replace(' ', '')\n",
    "print(alt_csv)"
   ]
  },
  {
   "cell_type": "code",
   "execution_count": null,
   "metadata": {},
   "outputs": [],
   "source": [
    "print(csv_string.strip().replace(' ', '').replace(',', '\\t'))"
   ]
  },
  {
   "cell_type": "markdown",
   "metadata": {},
   "source": [
    "### .find()\n",
    "\n",
    "incredibly useful searching, returning the index of the search"
   ]
  },
  {
   "cell_type": "code",
   "execution_count": null,
   "metadata": {},
   "outputs": [],
   "source": [
    "s = 'My funny Christmas'\n",
    "s.find('y')"
   ]
  },
  {
   "cell_type": "code",
   "execution_count": null,
   "metadata": {},
   "outputs": [],
   "source": [
    "s.find?"
   ]
  },
  {
   "cell_type": "code",
   "execution_count": null,
   "metadata": {},
   "outputs": [],
   "source": [
    "s.find('funny')"
   ]
  },
  {
   "cell_type": "code",
   "execution_count": null,
   "metadata": {},
   "outputs": [],
   "source": [
    "s[s.find('funny'):]"
   ]
  },
  {
   "cell_type": "code",
   "execution_count": null,
   "metadata": {},
   "outputs": [],
   "source": [
    "s[s.find('Christmas'):-3]"
   ]
  },
  {
   "cell_type": "code",
   "execution_count": null,
   "metadata": {},
   "outputs": [],
   "source": [
    "s.find('k')"
   ]
  },
  {
   "cell_type": "code",
   "execution_count": null,
   "metadata": {},
   "outputs": [],
   "source": [
    "ss = [s, 'Argentine', 'American', 'Quarentine', 'Manafort']\n",
    "for thestring in ss:\n",
    "    if thestring.find('tine') != -1:\n",
    "        print('' + str(thestring) + ' contains tine.')"
   ]
  },
  {
   "cell_type": "markdown",
   "metadata": {},
   "source": [
    "### string module\n",
    "\n",
    "exposes useful variables and functions"
   ]
  },
  {
   "cell_type": "code",
   "execution_count": null,
   "metadata": {},
   "outputs": [],
   "source": [
    "import string"
   ]
  },
  {
   "cell_type": "code",
   "execution_count": null,
   "metadata": {},
   "outputs": [],
   "source": [
    "string.ascii_letters"
   ]
  },
  {
   "cell_type": "code",
   "execution_count": null,
   "metadata": {},
   "outputs": [],
   "source": [
    "string.digits"
   ]
  },
  {
   "cell_type": "code",
   "execution_count": null,
   "metadata": {},
   "outputs": [],
   "source": [
    "string.ascii_uppercase"
   ]
  },
  {
   "cell_type": "markdown",
   "metadata": {},
   "source": [
    "### String Formatting\n",
    "\n",
    "casting using `str()` is very limited Python gives access to C-like string formatting\n",
    "\n",
    "       usage:  “%(format)” % (variable)"
   ]
  },
  {
   "cell_type": "code",
   "execution_count": null,
   "metadata": {},
   "outputs": [],
   "source": [
    "import math\n",
    "print('My favourite integer is %i and my favourite float is %f,\\\n",
    " which to three decimal place is %0.3f and in exponential form is %e' \\\n",
    "     %(3, math.pi, math.pi, math.pi))"
   ]
  },
  {
   "cell_type": "markdown",
   "metadata": {},
   "source": [
    "common formats:\n",
    "\n",
    "    f (float), i (integer), s (string), g (nicely formatting floats)\n",
    "\n",
    "http://docs.python.org/release/2.7.2/library/stdtypes.html#string-formatting-operations\n",
    "\n",
    " \n",
    "\n",
    "### String Formatting\n",
    "\n",
    "    % escapes “%”"
   ]
  },
  {
   "cell_type": "code",
   "execution_count": null,
   "metadata": {},
   "outputs": [],
   "source": [
    "print('I promised to give 100%% effort whenever asked of')"
   ]
  },
  {
   "cell_type": "markdown",
   "metadata": {},
   "source": [
    "    + and zero-padding\n"
   ]
  },
  {
   "cell_type": "code",
   "execution_count": null,
   "metadata": {},
   "outputs": [],
   "source": [
    "print('%f\\n%+f\\n%f\\n%10f\\n%10s' %(math.pi, math.pi, -1.0 * math.pi, math.pi, 'pi'))"
   ]
  },
  {
   "cell_type": "markdown",
   "metadata": {},
   "source": [
    "### String Formatting\n",
    "\n",
    "the (somewhat) preferred way\n",
    "\n",
    "    is string.format(value0,value1,....)"
   ]
  },
  {
   "cell_type": "code",
   "execution_count": null,
   "metadata": {},
   "outputs": [],
   "source": [
    "'On {}, I feel {}' .format('Friday', 'groovy')"
   ]
  },
  {
   "cell_type": "code",
   "execution_count": null,
   "metadata": {},
   "outputs": [],
   "source": [
    "'on {0}, I feel {0}'.format(\"Saturday\",\"groovy\")"
   ]
  },
  {
   "cell_type": "code",
   "execution_count": null,
   "metadata": {},
   "outputs": [],
   "source": [
    "'on {0}, I feel {1}'.format(\"Saturday\",\"groovy\")"
   ]
  },
  {
   "cell_type": "code",
   "execution_count": null,
   "metadata": {},
   "outputs": [],
   "source": [
    "'on {1}, I feel {0}'.format(\"Saturday\",\"groovy\")"
   ]
  },
  {
   "cell_type": "markdown",
   "metadata": {},
   "source": [
    "you can assign by argument position or by name\n",
    "\n"
   ]
  },
  {
   "cell_type": "code",
   "execution_count": null,
   "metadata": {},
   "outputs": [],
   "source": [
    "'{desire} to {place}'.format(desire = 'Fly me', \n",
    "                            place = 'The moon')"
   ]
  },
  {
   "cell_type": "code",
   "execution_count": null,
   "metadata": {},
   "outputs": [],
   "source": [
    "'{desire} to {place} or else I wouldn\\'t visit {place}'. format(\n",
    "                                                    desire = 'Fly me',\n",
    "                                                    place = 'The Moon')"
   ]
  },
  {
   "cell_type": "code",
   "execution_count": null,
   "metadata": {},
   "outputs": [],
   "source": [
    "f = {'desire': 'I want to take you', 'place': 'funky town'}\n",
    "'{desire} to {place}'.format(**f)"
   ]
  },
  {
   "cell_type": "markdown",
   "metadata": {},
   "source": [
    "### Formatting comes after a colon (:)\n"
   ]
  },
  {
   "cell_type": "code",
   "execution_count": null,
   "metadata": {},
   "outputs": [],
   "source": [
    "print('%03.2f' %3.14159)"
   ]
  },
  {
   "cell_type": "code",
   "execution_count": null,
   "metadata": {},
   "outputs": [],
   "source": [
    "('%03.2f' % 3.14159) == '{:03.2f}'.format(3.14159)"
   ]
  },
  {
   "cell_type": "code",
   "execution_count": null,
   "metadata": {},
   "outputs": [],
   "source": [
    "'{0:03.2f}'.format(3.14159, 42)"
   ]
  },
  {
   "cell_type": "code",
   "execution_count": null,
   "metadata": {},
   "outputs": [],
   "source": [
    "x = 10\n",
    "strformat = '{1:<%i.2f}' %x\n",
    "print(strformat)"
   ]
  },
  {
   "cell_type": "code",
   "execution_count": null,
   "metadata": {},
   "outputs": [],
   "source": [
    "strformat.format(3.14159, 42)"
   ]
  },
  {
   "cell_type": "code",
   "execution_count": null,
   "metadata": {},
   "outputs": [],
   "source": [
    "# format also supports binary numbers\n",
    "\"int: {0:d};  hex: {0:x};  oct: {0:o};  bin: {0:b}\".format(42)"
   ]
  },
  {
   "cell_type": "code",
   "execution_count": null,
   "metadata": {},
   "outputs": [],
   "source": [
    "'{0:b}'.format(15)"
   ]
  },
  {
   "cell_type": "markdown",
   "metadata": {},
   "source": [
    "## File I/O (read/write)\n",
    "\n",
    "    .open() and .close() are builtin functions"
   ]
  },
  {
   "cell_type": "code",
   "execution_count": null,
   "metadata": {},
   "outputs": [],
   "source": [
    "%%file mydata.dat\n",
    "This is my first file I/O. Zing!"
   ]
  },
  {
   "cell_type": "code",
   "execution_count": null,
   "metadata": {},
   "outputs": [],
   "source": [
    "file_stream = open('mydata.dat', 'r'); print(type(file_stream))\n",
    "file_stream.close"
   ]
  },
  {
   "cell_type": "markdown",
   "metadata": {},
   "source": [
    "    open modes: r (read), w (write), r+ (read + update), rb (read as a binary stream, ...), rt (read as text file)\n",
    "\n",
    "    Writing data: .write() or .writelines()"
   ]
  },
  {
   "cell_type": "code",
   "execution_count": null,
   "metadata": {},
   "outputs": [],
   "source": [
    "f = open('test.dat', 'w')\n",
    "f.write('This is my second I/O. Zang!')\n",
    "f.close()\n",
    "!cat test.dat"
   ]
  },
  {
   "cell_type": "code",
   "execution_count": null,
   "metadata": {},
   "outputs": [],
   "source": [
    "f = open('test.dat', 'w')\n",
    "f.writelines([\"a = ['This is my third file I/O. Zang!']\", ' Take that Dr'])\n",
    "f.close()\n",
    "!cat test.dat"
   ]
  },
  {
   "cell_type": "markdown",
   "metadata": {},
   "source": [
    "    Likewise, there is .readlines() and .read()\n",
    "\n"
   ]
  },
  {
   "cell_type": "code",
   "execution_count": null,
   "metadata": {},
   "outputs": [],
   "source": [
    "f= open(\"mydata.dat\",\"r\")\n",
    "data = f.readlines()\n",
    "f.close() ; print(data)"
   ]
  },
  {
   "cell_type": "code",
   "execution_count": null,
   "metadata": {},
   "outputs": [],
   "source": [
    "type(data)"
   ]
  },
  {
   "cell_type": "code",
   "execution_count": null,
   "metadata": {},
   "outputs": [],
   "source": [
    "%%file tabbify_my_csv.py\n",
    "\"\"\"\n",
    "small copy program that turns a csv file into a tabbed file\n",
    "\n",
    "\"\"\"\n",
    "import os\n",
    "\n",
    "def tabbify(infilename,outfilename,ignore_comments=True,comment_chars=\"#;/\"):\n",
    "    \"\"\"\n",
    "INPUT: infilename\n",
    "OUTPUT: creates a file called outfilename\n",
    "    \"\"\"\n",
    "    if not os.path.exists(infilename):\n",
    "        return  # do nothing if the file isn't there\n",
    "    f = open(infilename,\"r\")\n",
    "    o = open(outfilename,\"w\")\n",
    "    inlines = f.readlines() ; f.close()\n",
    "    outlines = []\n",
    "    for l in inlines:\n",
    "        if ignore_comments and (l[0] in comment_chars):\n",
    "            outlines.append(l)\n",
    "        else:\n",
    "            outlines.append(l.replace(\",\",\"\\t\"))\n",
    "    o.writelines(outlines) ; o.close()"
   ]
  },
  {
   "cell_type": "code",
   "execution_count": null,
   "metadata": {},
   "outputs": [],
   "source": [
    "!cat google_share_price.csv |head"
   ]
  },
  {
   "cell_type": "code",
   "execution_count": null,
   "metadata": {},
   "outputs": [],
   "source": [
    "%run tabbify_my_csv.py\n",
    "tabbify(\"google_share_price.csv\",\"google_share_price.tsv\")"
   ]
  },
  {
   "cell_type": "code",
   "execution_count": null,
   "metadata": {},
   "outputs": [],
   "source": [
    "!cat google_share_price.csv |head"
   ]
  },
  {
   "cell_type": "code",
   "execution_count": null,
   "metadata": {},
   "outputs": [],
   "source": [
    "!cat google_share_price.tsv |head"
   ]
  },
  {
   "cell_type": "markdown",
   "metadata": {},
   "source": [
    "# Advanced Interactions"
   ]
  },
  {
   "cell_type": "markdown",
   "metadata": {},
   "source": [
    "# Lamda Functions\n",
    "\n",
    "\n",
    "(anonymous functions) from Lisp & functional programming"
   ]
  },
  {
   "cell_type": "code",
   "execution_count": 1,
   "metadata": {},
   "outputs": [
    {
     "name": "stdout",
     "output_type": "stream",
     "text": [
      "<class 'function'>\n"
     ]
    }
   ],
   "source": [
    "tmp = lambda x: x**2\n",
    "print(type(tmp))"
   ]
  },
  {
   "cell_type": "code",
   "execution_count": 2,
   "metadata": {},
   "outputs": [
    {
     "data": {
      "text/plain": [
       "4"
      ]
     },
     "execution_count": 2,
     "metadata": {},
     "output_type": "execute_result"
    }
   ],
   "source": [
    "tmp(2)"
   ]
  },
  {
   "cell_type": "code",
   "execution_count": 3,
   "metadata": {},
   "outputs": [
    {
     "data": {
      "text/plain": [
       "7"
      ]
     },
     "execution_count": 3,
     "metadata": {},
     "output_type": "execute_result"
    }
   ],
   "source": [
    "# forget about creating a new function name ... just do it!\n",
    "(lambda x, y: x**2 + y)(2, 3)"
   ]
  },
  {
   "cell_type": "code",
   "execution_count": 25,
   "metadata": {},
   "outputs": [
    {
     "name": "stdout",
     "output_type": "stream",
     "text": [
      "4.840000000000001\n",
      "Really? I mean really?\n"
     ]
    }
   ],
   "source": [
    "# Create a list of lambda functions\n",
    "import math\n",
    "lamfun = [lambda x: x**2, \n",
    "          lambda y: math.sqrt(y) if y>= 0 else 'Really? I mean really?'\n",
    "          #lambda x, y: x**3 + y,\n",
    "          #lambda x, y: x * y\n",
    "          ]\n",
    "for fun in lamfun:\n",
    "    print(fun(-2.2))"
   ]
  },
  {
   "cell_type": "code",
   "execution_count": 24,
   "metadata": {},
   "outputs": [
    {
     "data": {
      "text/plain": [
       "[0, 1, 4, 9, 16, 25, 36, 49, 64, 81]"
      ]
     },
     "execution_count": 24,
     "metadata": {},
     "output_type": "execute_result"
    }
   ],
   "source": [
    "# Create a single lambda function and call it 10 times\n",
    "[(lambda x: x**2)(x) for x in range(10)]"
   ]
  },
  {
   "cell_type": "code",
   "execution_count": 23,
   "metadata": {},
   "outputs": [
    {
     "data": {
      "text/plain": [
       "[0, 1, 4, 9, 16, 25, 36, 49, 64, 81]"
      ]
     },
     "execution_count": 23,
     "metadata": {},
     "output_type": "execute_result"
    }
   ],
   "source": [
    "[x**2 for x in range(10)]"
   ]
  },
  {
   "cell_type": "markdown",
   "metadata": {},
   "source": [
    "Lambda functions are meant to be short! One liners. If you need more complex functions, its better you just name them"
   ]
  },
  {
   "cell_type": "code",
   "execution_count": 26,
   "metadata": {},
   "outputs": [],
   "source": [
    "# %load airline.py\n",
    "airports = {\"DCA\": \"Washington, D.C.\", \"IAD\": \"Dulles\", \"LHR\": \"London-Heathrow\", \\\n",
    "            \"SVO\": \"Moscow\", \"CDA\": \"Chicago-Midway\", \"SBA\": \"Santa Barbara\", \"LAX\": \"Los Angeles\",\\\n",
    "            \"JFK\": \"New York City\", \"MIA\": \"Miami\", \"AUM\": \"Austin, Minnesota\"}\n",
    "            \n",
    "# airline, number, heading to, gate, time (decimal hours) \n",
    "flights = [(\"Southwest\",145,\"DCA\",1,6.00),(\"United\",31,\"IAD\",1,7.1),(\"United\",302,\"LHR\",5,6.5),\\\n",
    "           (\"Aeroflot\",34,\"SVO\",5,9.00),(\"Southwest\",146,\"CDA\",1,9.60), (\"United\",46,\"LAX\",5,6.5),\\\n",
    "           (\"Southwest\",23,\"SBA\",6,12.5),(\"United\",2,\"LAX\",10,12.5),(\"Southwest\",59,\"LAX\",11,14.5),\\\n",
    "           (\"American\", 1,\"JFK\",12,11.3),(\"USAirways\", 8,\"MIA\",20,13.1),(\"United\",2032,\"MIA\",21,15.1),\\\n",
    "           (\"SpamAir\",1,\"AUM\",42,14.4)]"
   ]
  },
  {
   "cell_type": "code",
   "execution_count": 28,
   "metadata": {},
   "outputs": [
    {
     "name": "stdout",
     "output_type": "stream",
     "text": [
      "Help on method_descriptor:\n",
      "\n",
      "sort(...)\n",
      "    L.sort(key=None, reverse=False) -> None -- stable sort *IN PLACE*\n",
      "\n"
     ]
    }
   ],
   "source": [
    "help(list.sort)"
   ]
  },
  {
   "cell_type": "code",
   "execution_count": 36,
   "metadata": {},
   "outputs": [
    {
     "name": "stdout",
     "output_type": "stream",
     "text": [
      "[('Aeroflot', 34, 'SVO', 5, 9.0), ('American', 1, 'JFK', 12, 11.3), ('Southwest', 23, 'SBA', 6, 12.5), ('Southwest', 59, 'LAX', 11, 14.5), ('Southwest', 145, 'DCA', 1, 6.0), ('Southwest', 146, 'CDA', 1, 9.6), ('SpamAir', 1, 'AUM', 42, 14.4), ('USAirways', 8, 'MIA', 20, 13.1), ('United', 2, 'LAX', 10, 12.5), ('United', 31, 'IAD', 1, 7.1), ('United', 46, 'LAX', 5, 6.5), ('United', 302, 'LHR', 5, 6.5), ('United', 2032, 'MIA', 21, 15.1)]\n"
     ]
    }
   ],
   "source": [
    "flights.sort();\n",
    "print(flights)"
   ]
  },
  {
   "cell_type": "code",
   "execution_count": 38,
   "metadata": {
    "scrolled": true
   },
   "outputs": [
    {
     "name": "stdout",
     "output_type": "stream",
     "text": [
      "[('Aeroflot', 34, 'SVO', 5, 9.0), ('American', 1, 'JFK', 12, 11.3), ('Southwest', 23, 'SBA', 6, 12.5), ('Southwest', 59, 'LAX', 11, 14.5), ('Southwest', 145, 'DCA', 1, 6.0), ('Southwest', 146, 'CDA', 1, 9.6), ('SpamAir', 1, 'AUM', 42, 14.4), ('United', 2, 'LAX', 10, 12.5), ('United', 31, 'IAD', 1, 7.1), ('United', 46, 'LAX', 5, 6.5), ('United', 302, 'LHR', 5, 6.5), ('United', 2032, 'MIA', 21, 15.1), ('USAirways', 8, 'MIA', 20, 13.1)]\n"
     ]
    }
   ],
   "source": [
    "flights.sort(key = lambda x: x[0].lower());\n",
    "print(flights)"
   ]
  },
  {
   "cell_type": "code",
   "execution_count": 34,
   "metadata": {},
   "outputs": [
    {
     "name": "stdout",
     "output_type": "stream",
     "text": [
      "[('Southwest', 145, 'DCA', 1, 6.0), ('United', 46, 'LAX', 5, 6.5), ('United', 302, 'LHR', 5, 6.5), ('United', 31, 'IAD', 1, 7.1), ('Aeroflot', 34, 'SVO', 5, 9.0), ('Southwest', 146, 'CDA', 1, 9.6), ('American', 1, 'JFK', 12, 11.3), ('Southwest', 23, 'SBA', 6, 12.5), ('United', 2, 'LAX', 10, 12.5), ('USAirways', 8, 'MIA', 20, 13.1), ('SpamAir', 1, 'AUM', 42, 14.4), ('Southwest', 59, 'LAX', 11, 14.5), ('United', 2032, 'MIA', 21, 15.1)]\n"
     ]
    }
   ],
   "source": [
    "flights.sort(key = lambda x: x[4]);\n",
    "print(flights)"
   ]
  },
  {
   "cell_type": "code",
   "execution_count": 42,
   "metadata": {
    "scrolled": true
   },
   "outputs": [
    {
     "name": "stdout",
     "output_type": "stream",
     "text": [
      "[('Southwest', 145, 'DCA', 1, 6.0),\n",
      " ('United', 46, 'LAX', 5, 6.5),\n",
      " ('United', 302, 'LHR', 5, 6.5),\n",
      " ('United', 31, 'IAD', 1, 7.1),\n",
      " ('Aeroflot', 34, 'SVO', 5, 9.0),\n",
      " ('Southwest', 146, 'CDA', 1, 9.6),\n",
      " ('American', 1, 'JFK', 12, 11.3),\n",
      " ('United', 2, 'LAX', 10, 12.5),\n",
      " ('Southwest', 23, 'SBA', 6, 12.5),\n",
      " ('USAirways', 8, 'MIA', 20, 13.1),\n",
      " ('SpamAir', 1, 'AUM', 42, 14.4),\n",
      " ('Southwest', 59, 'LAX', 11, 14.5),\n",
      " ('United', 2032, 'MIA', 21, 15.1)]\n"
     ]
    }
   ],
   "source": [
    "import pprint\n",
    "pprint.pprint(flights)"
   ]
  },
  {
   "cell_type": "markdown",
   "metadata": {},
   "source": [
    "## Multiple column sorting\n",
    "\n",
    "    operator.itemgetter(item[, args ...])\n",
    "    \n",
    "Returns a callable object that fetches item from its operand using the operand's `__getitem__()` method, if multiple items are specified, returns a tuple of lookup values.\n",
    "\n",
    "http://docs.python.org/library/operator.html#module-operator"
   ]
  },
  {
   "cell_type": "code",
   "execution_count": 44,
   "metadata": {},
   "outputs": [
    {
     "data": {
      "text/plain": [
       "[('Southwest', 145, 'DCA', 1, 6.0),\n",
       " ('United', 46, 'LAX', 5, 6.5),\n",
       " ('United', 302, 'LHR', 5, 6.5),\n",
       " ('United', 31, 'IAD', 1, 7.1),\n",
       " ('Aeroflot', 34, 'SVO', 5, 9.0),\n",
       " ('Southwest', 146, 'CDA', 1, 9.6),\n",
       " ('American', 1, 'JFK', 12, 11.3),\n",
       " ('United', 2, 'LAX', 10, 12.5),\n",
       " ('Southwest', 23, 'SBA', 6, 12.5),\n",
       " ('USAirways', 8, 'MIA', 20, 13.1),\n",
       " ('SpamAir', 1, 'AUM', 42, 14.4),\n",
       " ('Southwest', 59, 'LAX', 11, 14.5),\n",
       " ('United', 2032, 'MIA', 21, 15.1)]"
      ]
     },
     "execution_count": 44,
     "metadata": {},
     "output_type": "execute_result"
    }
   ],
   "source": [
    "import operator\n",
    "flights.sort(key = operator.itemgetter(4, 1, 0))\n",
    "flights"
   ]
  },
  {
   "cell_type": "markdown",
   "metadata": {},
   "source": [
    "## Filter is a certain way to do list comprehension\n",
    "\n",
    "    filter(function, sequence) returns a sequence consisting of those items from the sequence for which function(item) is true"
   ]
  },
  {
   "cell_type": "code",
   "execution_count": 45,
   "metadata": {},
   "outputs": [
    {
     "name": "stdout",
     "output_type": "stream",
     "text": [
      "[3, 7, 15, 19, 23, 27, 31, 35, 39, 43, 47, 51, 59, 63, 67, 71, 75, 79, 83, 87, 91, 95]\n"
     ]
    }
   ],
   "source": [
    "mylist=[num for num in range(101) if (num & 2) and (num & 1) and (num % 11 != 0.0)]\n",
    "print(mylist)"
   ]
  },
  {
   "cell_type": "code",
   "execution_count": 47,
   "metadata": {},
   "outputs": [
    {
     "name": "stdout",
     "output_type": "stream",
     "text": [
      "[3, 7, 15, 19, 23, 27, 31, 35, 39, 43, 47, 51, 59, 63, 67, 71, 75, 79, 83, 87, 91, 95]\n"
     ]
    }
   ],
   "source": [
    "def f(num):\n",
    "    return (num & 2) and (num & 1) and (num % 11 != 0)\n",
    "mylist = list(filter(f, range(101)))\n",
    "print(mylist)"
   ]
  },
  {
   "cell_type": "code",
   "execution_count": 55,
   "metadata": {},
   "outputs": [
    {
     "name": "stdout",
     "output_type": "stream",
     "text": [
      "[False, False, False, True, False, False, False, True, False, False, False, False, False, False, False, True, False, False, False, True, False, False, False, True, False, False, False, True, False, False, False, True, False, False, False, True, False, False, False, True, False, False, False, True, False, False, False, True, False, False, False, True, False, False, False, False, False, False, False, True, False, False, False, True, False, False, False, True, False, False, False, True, False, False, False, True, False, False, False, True, False, False, False, True, False, False, False, True, False, False, False, True, False, False, False, True, False, False, False, False, False]\n"
     ]
    }
   ],
   "source": [
    "mylist = list(map(lambda num: bool((num & 2) and (num & 1) and (num % 11 != 0)), range(101)))\n",
    "print(mylist)"
   ]
  },
  {
   "cell_type": "markdown",
   "metadata": {},
   "source": [
    "if the input is a string, so is the output...\n",
    "\n"
   ]
  },
  {
   "cell_type": "code",
   "execution_count": 58,
   "metadata": {},
   "outputs": [
    {
     "data": {
      "text/plain": [
       "'CharlieBrownsaid'"
      ]
     },
     "execution_count": 58,
     "metadata": {},
     "output_type": "execute_result"
    }
   ],
   "source": [
    "# also works on strings...try it with lambdas!\n",
    "import string\n",
    "a=\"Charlie Brown said \\\"!@!@$@!\\\"\"\n",
    "\"\".join([c for c in a if c in string.ascii_letters])"
   ]
  },
  {
   "cell_type": "code",
   "execution_count": 59,
   "metadata": {},
   "outputs": [
    {
     "data": {
      "text/plain": [
       "'3, 7, 15, 19, 23, 27, 31, 35, 39, 43, 47, 51, 59, 63, 67, 71, 75, 79, 83, 87, 91, 95'"
      ]
     },
     "execution_count": 59,
     "metadata": {},
     "output_type": "execute_result"
    }
   ],
   "source": [
    "\", \".join([str(num) for num in range(101) if (num & 2) and \\\n",
    "           (num & 1) and (num % 11 != 0)])"
   ]
  },
  {
   "cell_type": "markdown",
   "metadata": {},
   "source": [
    "## Map is just another way to do list comprehension"
   ]
  },
  {
   "cell_type": "code",
   "execution_count": 63,
   "metadata": {},
   "outputs": [
    {
     "data": {
      "text/plain": [
       "['sss', 'ppp', 'aaa', 'mmm']"
      ]
     },
     "execution_count": 63,
     "metadata": {},
     "output_type": "execute_result"
    }
   ],
   "source": [
    "def timesthree(x):\n",
    "    return x*3\n",
    "list(map(timesthree, 'spam'))"
   ]
  },
  {
   "cell_type": "code",
   "execution_count": 64,
   "metadata": {},
   "outputs": [
    {
     "data": {
      "text/plain": [
       "[1, 8, 27, 64, 125, 216, 343, 512, 729]"
      ]
     },
     "execution_count": 64,
     "metadata": {},
     "output_type": "execute_result"
    }
   ],
   "source": [
    "list(map(lambda x: x**3, range(1, 10)))"
   ]
  },
  {
   "cell_type": "code",
   "execution_count": 65,
   "metadata": {},
   "outputs": [
    {
     "data": {
      "text/plain": [
       "[1, 8, 27, 64, 125, 216, 343, 512, 729]"
      ]
     },
     "execution_count": 65,
     "metadata": {},
     "output_type": "execute_result"
    }
   ],
   "source": [
    "[x**3 for x in range(1, 10)]"
   ]
  },
  {
   "cell_type": "markdown",
   "metadata": {},
   "source": [
    "## Reduce returns one value\n",
    "\n",
    "reduce(function, sequence) returns a single value constructed by calling the binary function on the first two items of the sequence, then on the result and the next item, and so on"
   ]
  },
  {
   "cell_type": "code",
   "execution_count": 66,
   "metadata": {},
   "outputs": [
    {
     "data": {
      "text/plain": [
       "55"
      ]
     },
     "execution_count": 66,
     "metadata": {},
     "output_type": "execute_result"
    }
   ],
   "source": [
    "from functools import reduce\n",
    "# sum from 1 to 10\n",
    "reduce(lambda x, y: x + y, range(1, 11))"
   ]
  },
  {
   "cell_type": "code",
   "execution_count": 71,
   "metadata": {},
   "outputs": [
    {
     "data": {
      "text/plain": [
       "295"
      ]
     },
     "execution_count": 71,
     "metadata": {},
     "output_type": "execute_result"
    }
   ],
   "source": [
    "reduce(lambda x, y: x + y**2, range(10, 0, -1))"
   ]
  },
  {
   "cell_type": "code",
   "execution_count": 69,
   "metadata": {},
   "outputs": [
    {
     "data": {
      "text/plain": [
       "[10, 9, 8, 7, 6, 5, 4, 3, 2, 1]"
      ]
     },
     "execution_count": 69,
     "metadata": {},
     "output_type": "execute_result"
    }
   ],
   "source": [
    "list(range(10, 0, -1))"
   ]
  },
  {
   "cell_type": "code",
   "execution_count": 70,
   "metadata": {},
   "outputs": [
    {
     "data": {
      "text/plain": [
       "55"
      ]
     },
     "execution_count": 70,
     "metadata": {},
     "output_type": "execute_result"
    }
   ],
   "source": [
    "# sum() is a built-in function .... it's bound to be faster\n",
    "sum(range(1, 11))"
   ]
  },
  {
   "cell_type": "markdown",
   "metadata": {},
   "source": [
    "## zip()\n",
    "\n",
    "built in function to pairwise concatenate items in iterables into a list of tuples"
   ]
  },
  {
   "cell_type": "code",
   "execution_count": 72,
   "metadata": {},
   "outputs": [
    {
     "data": {
      "text/plain": [
       "[('I', '=spam'), ('you', '=eggs'), ('them', '=dark knights')]"
      ]
     },
     "execution_count": 72,
     "metadata": {},
     "output_type": "execute_result"
    }
   ],
   "source": [
    "list(zip([\"I\",\"you\",\"them\"],[\"=spam\",\"=eggs\",\"=dark knights\"]))"
   ]
  },
  {
   "cell_type": "code",
   "execution_count": 78,
   "metadata": {},
   "outputs": [],
   "source": [
    "a = list(zip([\"I\",\"you\",\"them\"],[\"=spam\",\"=eggs\",\"=dark knights\"],[\"!\",\"?\",\"hello\",\"blah\"]))"
   ]
  },
  {
   "cell_type": "code",
   "execution_count": 81,
   "metadata": {},
   "outputs": [
    {
     "data": {
      "text/plain": [
       "'hello'"
      ]
     },
     "execution_count": 81,
     "metadata": {},
     "output_type": "execute_result"
    }
   ],
   "source": [
    "a[2][2]"
   ]
  },
  {
   "cell_type": "code",
   "execution_count": 77,
   "metadata": {},
   "outputs": [
    {
     "name": "stdout",
     "output_type": "stream",
     "text": [
      "What is your name?  It is lancelot\n",
      "What is your quest?  It is the holy grail\n",
      "What is your favorite color?  It is blue\n"
     ]
    }
   ],
   "source": [
    "questions = ['name', 'quest', 'favorite color']\n",
    "answers = ['lancelot', 'the holy grail', 'blue']\n",
    "for a,q in zip(questions, answers):\n",
    "    print('What is your %s?  It is %s' % (a,q))"
   ]
  },
  {
   "cell_type": "markdown",
   "metadata": {},
   "source": [
    "not to be confused with zipfile module which exposes file compression\n",
    "\n"
   ]
  },
  {
   "cell_type": "markdown",
   "metadata": {},
   "source": [
    "# try, except, finally\n",
    "\n",
    "  - Billy: Let's keep going with \"Airplanes\", for \\$200.\n",
    "  - Bobby Wheat: \"Airplanes\" for \\$200: \"And what is the Deal With the Black Box?\"\n",
    "  - [ Tommy buzzes in ] Tommy!\n",
    "  - Tommy: It's the only thing that survives the crash - why don't they build the whole plane out of the Black Box!\n",
    "\n",
    "http://snltranscripts.jt.org/91/91rstandup.phtml\n",
    "\n",
    "http://www.nbc.com/saturday-night-live/video/standup-and-win/2868123\n",
    "\n",
    "### Wrap volatile code in try/except/finally\n",
    "\n",
    "instead of ..."
   ]
  },
  {
   "cell_type": "code",
   "execution_count": 82,
   "metadata": {},
   "outputs": [
    {
     "name": "stdout",
     "output_type": "stream",
     "text": [
      "Enter a number and I'll square it: 4\n",
      "16.0\n"
     ]
    }
   ],
   "source": [
    "tmp = input(\"Enter a number and I'll square it: \") ; print(float(tmp)**2)"
   ]
  },
  {
   "cell_type": "code",
   "execution_count": 88,
   "metadata": {},
   "outputs": [],
   "source": [
    "def f():\n",
    "    try:\n",
    "        tmp = input(\"Enter a number and I'll square it: \")\n",
    "        print(float(tmp)**2)\n",
    "    except ValueError:\n",
    "        print('dude. I asked you for a number and %s is not a number.' %tmp)\n",
    "    finally:\n",
    "        print('Thanks for playing')"
   ]
  },
  {
   "cell_type": "code",
   "execution_count": 89,
   "metadata": {},
   "outputs": [
    {
     "name": "stdout",
     "output_type": "stream",
     "text": [
      "Enter a number and I'll square it: 1/0\n",
      "dude. I asked you for a number and 1/0 is not a number.\n",
      "Thanks for playing\n"
     ]
    }
   ],
   "source": [
    "f()"
   ]
  },
  {
   "cell_type": "markdown",
   "metadata": {},
   "source": [
    "   - errors in Python generate what are called “exceptions”\n",
    "   - exceptions can be handled differently depending on what kind of exception they are (we’ll see more of that later)\n",
    "   - except “catches” these exceptions\n",
    "   - you do not have to catch exceptions (try/finally) is allowed. Finally block is executed no matter what!"
   ]
  },
  {
   "cell_type": "markdown",
   "metadata": {},
   "source": [
    "# exec & eval\n",
    "\n",
    "exec is a statement which executes strings as if they were Python code"
   ]
  },
  {
   "cell_type": "code",
   "execution_count": 90,
   "metadata": {},
   "outputs": [
    {
     "name": "stdout",
     "output_type": "stream",
     "text": [
      "print('checkit')\n"
     ]
    }
   ],
   "source": [
    "a = \"print('checkit')\"\n",
    "print(a)"
   ]
  },
  {
   "cell_type": "code",
   "execution_count": 91,
   "metadata": {},
   "outputs": [
    {
     "name": "stdout",
     "output_type": "stream",
     "text": [
      "checkit\n"
     ]
    }
   ],
   "source": [
    "exec(a)"
   ]
  },
  {
   "cell_type": "code",
   "execution_count": 92,
   "metadata": {},
   "outputs": [],
   "source": [
    "a = \"x = 4.56\""
   ]
  },
  {
   "cell_type": "code",
   "execution_count": 93,
   "metadata": {},
   "outputs": [
    {
     "data": {
      "text/plain": [
       "'x = 4.56'"
      ]
     },
     "execution_count": 93,
     "metadata": {},
     "output_type": "execute_result"
    }
   ],
   "source": [
    "a"
   ]
  },
  {
   "cell_type": "code",
   "execution_count": 94,
   "metadata": {},
   "outputs": [],
   "source": [
    "exec(a)"
   ]
  },
  {
   "cell_type": "code",
   "execution_count": 95,
   "metadata": {},
   "outputs": [
    {
     "data": {
      "text/plain": [
       "4.56"
      ]
     },
     "execution_count": 95,
     "metadata": {},
     "output_type": "execute_result"
    }
   ],
   "source": [
    "x"
   ]
  },
  {
   "cell_type": "code",
   "execution_count": 96,
   "metadata": {},
   "outputs": [],
   "source": [
    "exec('del x')"
   ]
  },
  {
   "cell_type": "code",
   "execution_count": 97,
   "metadata": {},
   "outputs": [
    {
     "ename": "NameError",
     "evalue": "name 'x' is not defined",
     "output_type": "error",
     "traceback": [
      "\u001b[0;31m---------------------------------------------------------------------------\u001b[0m",
      "\u001b[0;31mNameError\u001b[0m                                 Traceback (most recent call last)",
      "\u001b[0;32m<ipython-input-97-6fcf9dfbd479>\u001b[0m in \u001b[0;36m<module>\u001b[0;34m()\u001b[0m\n\u001b[0;32m----> 1\u001b[0;31m \u001b[0mx\u001b[0m\u001b[0;34m\u001b[0m\u001b[0m\n\u001b[0m",
      "\u001b[0;31mNameError\u001b[0m: name 'x' is not defined"
     ]
    }
   ],
   "source": [
    "x"
   ]
  },
  {
   "cell_type": "markdown",
   "metadata": {},
   "source": [
    "eval is an expression which evaluates strings as Python expressions\n",
    "\n"
   ]
  },
  {
   "cell_type": "code",
   "execution_count": 98,
   "metadata": {},
   "outputs": [
    {
     "name": "stdout",
     "output_type": "stream",
     "text": [
      "5\n",
      "11\n",
      "100\n"
     ]
    }
   ],
   "source": [
    "x = eval('5')  ; print(x)             # x <- 5\n",
    "x = eval('%d + 6' % x)  ; print(x)   # x <- 11\n",
    "x = eval('abs(%d)' % -100) ; print(x) # x <- 100"
   ]
  },
  {
   "cell_type": "code",
   "execution_count": null,
   "metadata": {},
   "outputs": [],
   "source": []
  }
 ],
 "metadata": {
  "kernelspec": {
   "display_name": "Python 3",
   "language": "python",
   "name": "python3"
  },
  "language_info": {
   "codemirror_mode": {
    "name": "ipython",
    "version": 3
   },
   "file_extension": ".py",
   "mimetype": "text/x-python",
   "name": "python",
   "nbconvert_exporter": "python",
   "pygments_lexer": "ipython3",
   "version": "3.6.5"
  }
 },
 "nbformat": 4,
 "nbformat_minor": 2
}
