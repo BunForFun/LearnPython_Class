{
 "cells": [
  {
   "cell_type": "markdown",
   "metadata": {},
   "source": [
    "# Object Oriented Programming\n"
   ]
  },
  {
   "cell_type": "markdown",
   "metadata": {},
   "source": [
    "### What's an \"object\"?\n",
    "\n",
    "In Python, an object is a value with zero or more attributes and methods.\n",
    "\n",
    "For example: An floating point number is an object."
   ]
  },
  {
   "cell_type": "code",
   "execution_count": 1,
   "metadata": {},
   "outputs": [],
   "source": [
    "x = 10.0"
   ]
  },
  {
   "cell_type": "code",
   "execution_count": 2,
   "metadata": {},
   "outputs": [
    {
     "data": {
      "text/plain": [
       "10.0"
      ]
     },
     "execution_count": 2,
     "metadata": {},
     "output_type": "execute_result"
    }
   ],
   "source": [
    "x.real"
   ]
  },
  {
   "cell_type": "code",
   "execution_count": 3,
   "metadata": {},
   "outputs": [
    {
     "data": {
      "text/plain": [
       "0.0"
      ]
     },
     "execution_count": 3,
     "metadata": {},
     "output_type": "execute_result"
    }
   ],
   "source": [
    "x.imag"
   ]
  },
  {
   "cell_type": "code",
   "execution_count": 4,
   "metadata": {},
   "outputs": [
    {
     "data": {
      "text/plain": [
       "(10, 1)"
      ]
     },
     "execution_count": 4,
     "metadata": {},
     "output_type": "execute_result"
    }
   ],
   "source": [
    "x.as_integer_ratio()"
   ]
  },
  {
   "cell_type": "code",
   "execution_count": 7,
   "metadata": {},
   "outputs": [
    {
     "data": {
      "text/plain": [
       "10.0"
      ]
     },
     "execution_count": 7,
     "metadata": {},
     "output_type": "execute_result"
    }
   ],
   "source": [
    "x.conjugate()"
   ]
  },
  {
   "cell_type": "markdown",
   "metadata": {},
   "source": [
    "A list is an object. We learned about some of its methods previously"
   ]
  },
  {
   "cell_type": "code",
   "execution_count": 14,
   "metadata": {},
   "outputs": [],
   "source": [
    "l = [1, 2, 3]"
   ]
  },
  {
   "cell_type": "code",
   "execution_count": 15,
   "metadata": {},
   "outputs": [
    {
     "name": "stdout",
     "output_type": "stream",
     "text": [
      "[1, 2, 3, 4]\n"
     ]
    }
   ],
   "source": [
    "l.append(4); print(l)"
   ]
  },
  {
   "cell_type": "code",
   "execution_count": 17,
   "metadata": {},
   "outputs": [
    {
     "data": {
      "text/plain": [
       "1"
      ]
     },
     "execution_count": 17,
     "metadata": {},
     "output_type": "execute_result"
    }
   ],
   "source": [
    "l.pop(0)"
   ]
  },
  {
   "cell_type": "code",
   "execution_count": 18,
   "metadata": {},
   "outputs": [
    {
     "data": {
      "text/plain": [
       "[2, 3, 4]"
      ]
     },
     "execution_count": 18,
     "metadata": {},
     "output_type": "execute_result"
    }
   ],
   "source": [
    "l"
   ]
  },
  {
   "cell_type": "markdown",
   "metadata": {},
   "source": [
    "Of course, all of these different objects act pretty differently from each other.\n",
    "\n",
    "To make it easier to keep track of all the different ways that objects can act, we divide them into types, also known as classes.\n",
    "\n",
    "Terminology: Every object is an instance of a class.\n",
    "\n",
    "# What's an object? - In Python: literally everything\n",
    "\n",
    "...what's \"object-oriented programming\"?\n",
    "\n",
    "Making your own types...\n",
    "\n",
    "#  Advantages of OOP\n",
    "\n",
    "(Might be hard to imagine these benefits right now, but trust us...)\n",
    "\n",
    "   - Encapsulation hides implementation details so you can forget more\n",
    "   - Code is organized intuitively\n",
    "   - Reuse is straightforward\n",
    "   - Modularity forces good programming habits"
   ]
  },
  {
   "cell_type": "markdown",
   "metadata": {},
   "source": [
    "![Image](bear.png)\n",
    "\n",
    "   - **Characteristics** --> Name, Colour, Height, Weight\n",
    "\n",
    "   - **Does Things** ---> Eat, Sleep, Growl, Cheer\n",
    "\n",
    "   - **Interaction** ---> Parents, siblings, friends\n",
    "   \n",
    "# Simple Bear class, attributes and methods\n",
    "\n",
    "The \"blueprint\" class for bear:\n",
    "\n",
    "\n",
    "- Attributes: name, colour, height, weight\n",
    "- Methods: eat(), sleep(), growl()\n",
    "\n",
    "Three instances of bears:\n",
    "\n",
    "Paddington:\n",
    "- Attributes: \"Paddington\", brown, 2.1m, 90kg\n",
    "- Methods: eat(), sleep(), growl()\n",
    "\n",
    "Yogi:\n",
    "- Attributes: \"Yogi\", brown, 1.8m, 80kg\n",
    "- Methods: eat(), sleep(), growl()\n",
    "\n",
    "Winnie:\n",
    "- Attributes: \"Winnie\", yellow, 1.2m, 100kg\n",
    "- Methods: eat(), sleep(), growl()"
   ]
  },
  {
   "cell_type": "code",
   "execution_count": 24,
   "metadata": {},
   "outputs": [
    {
     "name": "stdout",
     "output_type": "stream",
     "text": [
      "The Bear class is now defined!\n"
     ]
    }
   ],
   "source": [
    "class Bear:\n",
    "    print('The Bear class is now defined!')    "
   ]
  },
  {
   "cell_type": "code",
   "execution_count": 25,
   "metadata": {},
   "outputs": [
    {
     "data": {
      "text/plain": [
       "__main__.Bear"
      ]
     },
     "execution_count": 25,
     "metadata": {},
     "output_type": "execute_result"
    }
   ],
   "source": [
    "a = Bear # this is not generally useful: we don't often reference the class itself\n",
    "a"
   ]
  },
  {
   "cell_type": "code",
   "execution_count": 26,
   "metadata": {},
   "outputs": [
    {
     "data": {
      "text/plain": [
       "<__main__.Bear at 0x7fe8a04c0f28>"
      ]
     },
     "execution_count": 26,
     "metadata": {},
     "output_type": "execute_result"
    }
   ],
   "source": [
    "a = Bear() # that's more like it! This creates a new *instance* of the class\n",
    "a"
   ]
  },
  {
   "cell_type": "code",
   "execution_count": 27,
   "metadata": {},
   "outputs": [
    {
     "data": {
      "text/plain": [
       "True"
      ]
     },
     "execution_count": 27,
     "metadata": {},
     "output_type": "execute_result"
    }
   ],
   "source": [
    "isinstance(a, Bear)"
   ]
  },
  {
   "cell_type": "markdown",
   "metadata": {},
   "source": [
    "# Attributes"
   ]
  },
  {
   "cell_type": "code",
   "execution_count": 29,
   "metadata": {},
   "outputs": [
    {
     "name": "stdout",
     "output_type": "stream",
     "text": [
      "Oski Brown\n"
     ]
    }
   ],
   "source": [
    "a.name = \"Oski\" # In Python, we can add attributes to the instance on-the-fly\n",
    "a.colour = \"Brown\"\n",
    "print(a.name, a.colour) # Does he know who he is?"
   ]
  },
  {
   "cell_type": "code",
   "execution_count": 30,
   "metadata": {},
   "outputs": [
    {
     "name": "stdout",
     "output_type": "stream",
     "text": [
      "The Bear class is now defined!\n"
     ]
    }
   ],
   "source": [
    "class Bear:\n",
    "    print('The Bear class is now defined!')\n",
    "    def say_hello(self): #don't worry about the self just yet\n",
    "        print('Hello world! I am a bear')"
   ]
  },
  {
   "cell_type": "code",
   "execution_count": 33,
   "metadata": {},
   "outputs": [
    {
     "name": "stdout",
     "output_type": "stream",
     "text": [
      "Hello world! I am a bear\n"
     ]
    }
   ],
   "source": [
    "f = Bear()\n",
    "f.say_hello()"
   ]
  },
  {
   "cell_type": "markdown",
   "metadata": {},
   "source": [
    "When you write x.foo:\n",
    "\n",
    "- First Python checks if x has a foo attribute\n",
    "- If not, then it checks to see if `type(x)` has a foo attribute\n",
    "- And possibly applies some magic, like filling in the `self` argument"
   ]
  },
  {
   "cell_type": "code",
   "execution_count": 34,
   "metadata": {},
   "outputs": [],
   "source": [
    "b = Bear()"
   ]
  },
  {
   "cell_type": "code",
   "execution_count": 35,
   "metadata": {},
   "outputs": [
    {
     "name": "stdout",
     "output_type": "stream",
     "text": [
      "<__main__.Bear object at 0x7fe8a0452390>\n"
     ]
    }
   ],
   "source": [
    "print(b)"
   ]
  },
  {
   "cell_type": "code",
   "execution_count": 36,
   "metadata": {},
   "outputs": [
    {
     "data": {
      "text/plain": [
       "<function __main__.Bear.say_hello(self)>"
      ]
     },
     "execution_count": 36,
     "metadata": {},
     "output_type": "execute_result"
    }
   ],
   "source": [
    "# If we access 'say_hello' directly from the Class, then we get the regular function\n",
    "Bear.say_hello"
   ]
  },
  {
   "cell_type": "code",
   "execution_count": 39,
   "metadata": {},
   "outputs": [
    {
     "ename": "TypeError",
     "evalue": "say_hello() missing 1 required positional argument: 'self'",
     "output_type": "error",
     "traceback": [
      "\u001b[0;31m---------------------------------------------------------------------------\u001b[0m",
      "\u001b[0;31mTypeError\u001b[0m                                 Traceback (most recent call last)",
      "\u001b[0;32m<ipython-input-39-3b2e14ffb1bc>\u001b[0m in \u001b[0;36m<module>\u001b[0;34m()\u001b[0m\n\u001b[0;32m----> 1\u001b[0;31m \u001b[0mBear\u001b[0m\u001b[0;34m.\u001b[0m\u001b[0msay_hello\u001b[0m\u001b[0;34m(\u001b[0m\u001b[0;34m)\u001b[0m\u001b[0;34m\u001b[0m\u001b[0m\n\u001b[0m",
      "\u001b[0;31mTypeError\u001b[0m: say_hello() missing 1 required positional argument: 'self'"
     ]
    }
   ],
   "source": [
    "Bear.say_hello()"
   ]
  },
  {
   "cell_type": "code",
   "execution_count": 40,
   "metadata": {},
   "outputs": [
    {
     "name": "stdout",
     "output_type": "stream",
     "text": [
      "Hello world! I am a bear\n"
     ]
    }
   ],
   "source": [
    "Bear.say_hello(b)"
   ]
  },
  {
   "cell_type": "code",
   "execution_count": 41,
   "metadata": {},
   "outputs": [
    {
     "name": "stdout",
     "output_type": "stream",
     "text": [
      "Hello world! I am a bear\n"
     ]
    }
   ],
   "source": [
    "# If we access 'say_hello' *via an instance object*,\n",
    "# then 'self' gets filled in automatically.\n",
    "b.say_hello()"
   ]
  },
  {
   "cell_type": "markdown",
   "metadata": {},
   "source": [
    "# The `__init__()` method\n",
    "\n",
    "`__init__()` is a special method automatically called when a new instance is created. It can specify necessary initialization parameters.\n",
    "\n",
    "\"`self`\" is a special identifier used inside a method to refer to the particular instance of the class. self is not explicitly passed in when accessed through an object instance; Python takes care of that bookkeeping.\n",
    "\n",
    "When you 'call' a class to create a new instance, then:\n",
    "\n",
    "- first the new object is created as an empty, blank slate\n",
    "- then, Python calls `new_obj.__init__(...)` and passes in any arguments\n",
    "- which gets expanded to: `Class.__init__(new_obj, ...)`\n",
    "\n",
    "`__init__` is just a regular method, and can do anything a method can do -- but most commonly what it does is fill in object attributes:"
   ]
  },
  {
   "cell_type": "code",
   "execution_count": 56,
   "metadata": {},
   "outputs": [
    {
     "name": "stdout",
     "output_type": "stream",
     "text": [
      "The Bear class is now defined!\n"
     ]
    }
   ],
   "source": [
    "class Bear:\n",
    "    print('The Bear class is now defined!')\n",
    "    \n",
    "    def __init__(self, name):\n",
    "        self.name = name\n",
    "        print('A bear is born')\n",
    "        \n",
    "    def say_hello(self):\n",
    "        print('Hello world! I am a bear')\n",
    "        print('My name is', self.name)"
   ]
  },
  {
   "cell_type": "code",
   "execution_count": 48,
   "metadata": {},
   "outputs": [
    {
     "ename": "NameError",
     "evalue": "name 'say_hello' is not defined",
     "output_type": "error",
     "traceback": [
      "\u001b[0;31m---------------------------------------------------------------------------\u001b[0m",
      "\u001b[0;31mNameError\u001b[0m                                 Traceback (most recent call last)",
      "\u001b[0;32m<ipython-input-48-308f9ce64526>\u001b[0m in \u001b[0;36m<module>\u001b[0;34m()\u001b[0m\n\u001b[0;32m----> 1\u001b[0;31m \u001b[0msay_hello\u001b[0m\u001b[0;34m(\u001b[0m\u001b[0mname\u001b[0m\u001b[0;34m)\u001b[0m\u001b[0;34m\u001b[0m\u001b[0m\n\u001b[0m",
      "\u001b[0;31mNameError\u001b[0m: name 'say_hello' is not defined"
     ]
    }
   ],
   "source": []
  },
  {
   "cell_type": "code",
   "execution_count": 49,
   "metadata": {},
   "outputs": [
    {
     "ename": "TypeError",
     "evalue": "__init__() missing 1 required positional argument: 'name'",
     "output_type": "error",
     "traceback": [
      "\u001b[0;31m---------------------------------------------------------------------------\u001b[0m",
      "\u001b[0;31mTypeError\u001b[0m                                 Traceback (most recent call last)",
      "\u001b[0;32m<ipython-input-49-af1c47b17a08>\u001b[0m in \u001b[0;36m<module>\u001b[0;34m()\u001b[0m\n\u001b[0;32m----> 1\u001b[0;31m \u001b[0ma\u001b[0m \u001b[0;34m=\u001b[0m \u001b[0mBear\u001b[0m\u001b[0;34m(\u001b[0m\u001b[0;34m)\u001b[0m\u001b[0;34m\u001b[0m\u001b[0m\n\u001b[0m",
      "\u001b[0;31mTypeError\u001b[0m: __init__() missing 1 required positional argument: 'name'"
     ]
    }
   ],
   "source": [
    "a = Bear()"
   ]
  },
  {
   "cell_type": "code",
   "execution_count": 57,
   "metadata": {},
   "outputs": [
    {
     "name": "stdout",
     "output_type": "stream",
     "text": [
      "A bear is born\n"
     ]
    }
   ],
   "source": [
    "a = Bear('Paddington')"
   ]
  },
  {
   "cell_type": "code",
   "execution_count": 58,
   "metadata": {},
   "outputs": [
    {
     "name": "stdout",
     "output_type": "stream",
     "text": [
      "Hello world! I am a bear\n",
      "My name is Paddington\n"
     ]
    }
   ],
   "source": [
    "a.say_hello()"
   ]
  },
  {
   "cell_type": "markdown",
   "metadata": {},
   "source": [
    "## Global class variables, versus object instance attributes"
   ]
  },
  {
   "cell_type": "code",
   "execution_count": 65,
   "metadata": {},
   "outputs": [
    {
     "name": "stdout",
     "output_type": "stream",
     "text": [
      "Hello, I am bear 1/1. My name is Paddington be prepare to ...\n"
     ]
    }
   ],
   "source": [
    "class Bear:\n",
    "    population = 0\n",
    "    def __init__(self, name):\n",
    "        self.name = name\n",
    "        Bear.population += 1        # Increment the 'global' census counter, a class attribute\n",
    "        self.number = Bear.population # Copy the current number to our own object attribute\n",
    "    def say_hello(self):\n",
    "        print('Hello, I am bear %d/%d. My name is %s be prepare to ...'\n",
    "             %(self.number, Bear.population, self.name))\n",
    "        \n",
    "a = Bear(\"Paddington\")\n",
    "a.say_hello()"
   ]
  },
  {
   "cell_type": "code",
   "execution_count": null,
   "metadata": {},
   "outputs": [],
   "source": []
  }
 ],
 "metadata": {
  "kernelspec": {
   "display_name": "Python 3",
   "language": "python",
   "name": "python3"
  },
  "language_info": {
   "codemirror_mode": {
    "name": "ipython",
    "version": 3
   },
   "file_extension": ".py",
   "mimetype": "text/x-python",
   "name": "python",
   "nbconvert_exporter": "python",
   "pygments_lexer": "ipython3",
   "version": "3.6.5"
  }
 },
 "nbformat": 4,
 "nbformat_minor": 2
}
